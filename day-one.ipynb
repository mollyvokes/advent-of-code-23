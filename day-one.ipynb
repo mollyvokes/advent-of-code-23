{
 "cells": [
  {
   "cell_type": "markdown",
   "metadata": {},
   "source": [
    "## Advent of Code - Day One. \n",
    "\n",
    "### The advent story: Problems with Snow Production\n",
    "There's an issue with snow production and you need to find where the problem is. The elves have provided a map with 50 locations marked with stars. You must visit each location before December 25th arrives and collect the stars by solving puzzles. \n",
    "\n",
    "## Day One\n",
    "\n",
    "You had a callibration document with numbers which a long elf has turned into lines of text, mixed with letters and numbers. The original number will be the first digit and then the last digit of the new strings. i.e.:\n",
    "1abc2 = 12\n",
    "pqr3stu8vwx = 38\n",
    "a1b2c3d4e5f = 15\n",
    "treb7uchet = 77\n",
    "\n",
    "Take the input, find each individual number and then return the sum of all these numbers."
   ]
  },
  {
   "cell_type": "code",
   "execution_count": 2,
   "metadata": {},
   "outputs": [],
   "source": [
    "import pandas as pd"
   ]
  },
  {
   "cell_type": "markdown",
   "metadata": {},
   "source": [
    "## Psuedo Solution\n",
    "\n",
    "### Thoughts and notes\n",
    "Seems a pointer problem, need to increase a left pointer until a number is found, and decrease a right pointer until the same, and if they meet then it is the met number twice.\n",
    "\n",
    "for each code:\n",
    "    left pointer = 0\n",
    "    right pointer = len code\n",
    "\n",
    "    while first digit = none:\n",
    "        if code [ left ] == number:\n",
    "            first digit = code [left]\n",
    "        else:\n",
    "            left ++\n",
    "\n",
    "    while right > left:\n",
    "        if code [right ] == number:\n",
    "            second digit = code [right]\n",
    "        else:\n",
    "            right --\n",
    "\n",
    "    if right == None:\n",
    "        right = left\n",
    "\n",
    "    full num = concat left right        \n",
    "    "
   ]
  },
  {
   "cell_type": "code",
   "execution_count": 14,
   "metadata": {},
   "outputs": [],
   "source": [
    "cal_doc = pd.read_csv(\"callibration-doc-day-one.csv\", header=None)\n",
    "all_codes = list(cal_doc[0])"
   ]
  },
  {
   "cell_type": "code",
   "execution_count": 48,
   "metadata": {},
   "outputs": [],
   "source": [
    "def find_two_digit_number(code):\n",
    "    \n",
    "    left = 0\n",
    "    right = len(code)-1\n",
    "    \n",
    "    first = None\n",
    "    second = None\n",
    "    \n",
    "    while first == None:\n",
    "        if code[left].isnumeric():\n",
    "            first = code[left]\n",
    "        else:\n",
    "            left+=1\n",
    "            \n",
    "    while right > left and second == None:\n",
    "        if code[right].isnumeric():\n",
    "            second = code[right]\n",
    "        else:\n",
    "            right-=1\n",
    "            \n",
    "    if second==None:\n",
    "        second = first\n",
    "        \n",
    "    return int(first+second)"
   ]
  },
  {
   "cell_type": "code",
   "execution_count": 53,
   "metadata": {},
   "outputs": [
    {
     "name": "stdout",
     "output_type": "stream",
     "text": [
      "the total is 55816\n"
     ]
    }
   ],
   "source": [
    "sum = 0\n",
    "for code in all_codes:\n",
    "    sum += find_two_digit_number(code)\n",
    "    \n",
    "print(\"the total is\", sum)"
   ]
  },
  {
   "cell_type": "markdown",
   "metadata": {},
   "source": [
    "#### Part 2\n",
    "\n",
    "Turns out some of the numbers are written as their full string, i.e. 'one' and 'two'. With the same codes and this information, find the correct sum of the numbers."
   ]
  },
  {
   "cell_type": "code",
   "execution_count": 64,
   "metadata": {},
   "outputs": [],
   "source": [
    "number_strings = {'one': 1, 'two': 2, 'three': 3, 'four': 4, 'five': 5, 'six': 6, 'seven': 7, 'eight': 8, 'nine': 9}"
   ]
  },
  {
   "cell_type": "code",
   "execution_count": 138,
   "metadata": {},
   "outputs": [],
   "source": [
    "def find_number_strings(code):\n",
    "    left = 0\n",
    "    right = len(code)-1\n",
    "    \n",
    "    first = None\n",
    "    second = None\n",
    "    \n",
    "    left_string = \"\"\n",
    "    while first == None:\n",
    "        for num_string in number_strings.keys():\n",
    "            if num_string in left_string:\n",
    "                first = str(number_strings[num_string])\n",
    "                break\n",
    "        \n",
    "        if first == None and code[left].isnumeric():\n",
    "            first = code[left]\n",
    "        elif first == None:\n",
    "            left_string += code[left]\n",
    "            left+=1\n",
    "        else:\n",
    "            continue\n",
    "            \n",
    "    right_string = \"\"\n",
    "    while right >= left and second == None:\n",
    "        for num_string in number_strings.keys():\n",
    "            if num_string in right_string:\n",
    "                second = str(number_strings[num_string])\n",
    "                break\n",
    "            else:\n",
    "                continue\n",
    "        if second == None and code[right].isnumeric():\n",
    "            second = code[right]\n",
    "        elif second == None:\n",
    "            right_string = code[right] + right_string\n",
    "            right-=1\n",
    "        else:\n",
    "            continue\n",
    "            \n",
    "    return int(first+second)"
   ]
  },
  {
   "cell_type": "code",
   "execution_count": 140,
   "metadata": {},
   "outputs": [
    {
     "name": "stdout",
     "output_type": "stream",
     "text": [
      "the total with number string is: 54980\n"
     ]
    }
   ],
   "source": [
    "sum = 0\n",
    "for code in all_codes:\n",
    "    sum += find_number_strings(code)\n",
    "    \n",
    "print('the total with number string is:', sum)"
   ]
  },
  {
   "cell_type": "code",
   "execution_count": null,
   "metadata": {},
   "outputs": [],
   "source": []
  }
 ],
 "metadata": {
  "kernelspec": {
   "display_name": "myenv",
   "language": "python",
   "name": "myenv"
  },
  "language_info": {
   "codemirror_mode": {
    "name": "ipython",
    "version": 3
   },
   "file_extension": ".py",
   "mimetype": "text/x-python",
   "name": "python",
   "nbconvert_exporter": "python",
   "pygments_lexer": "ipython3",
   "version": "3.8.5"
  }
 },
 "nbformat": 4,
 "nbformat_minor": 2
}
